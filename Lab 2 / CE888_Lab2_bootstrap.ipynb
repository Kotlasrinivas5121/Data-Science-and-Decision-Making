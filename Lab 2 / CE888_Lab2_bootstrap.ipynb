{
  "nbformat": 4,
  "nbformat_minor": 0,
  "metadata": {
    "colab": {
      "name": "CE888-Lab2-bootstrap.ipynb",
      "provenance": [],
      "collapsed_sections": [],
      "include_colab_link": true
    },
    "kernelspec": {
      "display_name": "Python 3",
      "language": "python",
      "name": "python3"
    },
    "language_info": {
      "codemirror_mode": {
        "name": "ipython",
        "version": 3
      },
      "file_extension": ".py",
      "mimetype": "text/x-python",
      "name": "python",
      "nbconvert_exporter": "python",
      "pygments_lexer": "ipython3",
      "version": "3.7.6"
    },
    "pycharm": {
      "stem_cell": {
        "cell_type": "raw",
        "metadata": {
          "collapsed": false
        },
        "source": []
      }
    }
  },
  "cells": [
    {
      "cell_type": "markdown",
      "metadata": {
        "id": "view-in-github",
        "colab_type": "text"
      },
      "source": [
        "<a href=\"https://colab.research.google.com/github/Kotlasrinivas5121/Data-Science-and-Decision-Making/blob/main/Lab%202%20/%20CE888_Lab2_bootstrap.ipynb\" target=\"_parent\"><img src=\"https://colab.research.google.com/assets/colab-badge.svg\" alt=\"Open In Colab\"/></a>"
      ]
    },
    {
      "cell_type": "markdown",
      "metadata": {
        "id": "nCi_99yMYIb1"
      },
      "source": [
        "In this notebook you'll create your own bootstrap function following the bootstrap algorithm (check the lecture notes!)"
      ]
    },
    {
      "cell_type": "code",
      "metadata": {
        "id": "LY5zujI2YC37",
        "pycharm": {
          "name": "#%%# Imports\n"
        }
      },
      "source": [
        "import matplotlib\n",
        "import pandas as pd\n",
        "import seaborn as sns\n",
        "import numpy as np\n",
        "\n"
      ],
      "execution_count": null,
      "outputs": []
    },
    {
      "cell_type": "code",
      "metadata": {
        "id": "Eqkwj4SMY38t"
      },
      "source": [
        "# Load the data\n",
        "df = pd.read_csv('https://raw.githubusercontent.com/albanda/CE888/master/lab2%20-%20bootstrap/customers.csv')\n",
        "data = df.values.T[1]"
      ],
      "execution_count": null,
      "outputs": []
    },
    {
      "cell_type": "code",
      "metadata": {
        "id": "Gxvc_bScYC4H",
        "pycharm": {
          "name": "#%%\n"
        },
        "colab": {
          "base_uri": "https://localhost:8080/"
        },
        "outputId": "3c288db3-8409-4797-ee4d-9161ad584d1f"
      },
      "source": [
        "# Checking the notes from the lecture, create here your own bootstrap function:\n",
        "# 1. Sample from the input array x to create an array of samples of shape (n_bootstraps, sample_size)\n",
        "# Hint: Check the function random.choice() on Numpy\n",
        "# 2. Calculate and save the mean of the array (this is \"data_mean\" that is returned by the function)\n",
        "# 3. Calculate the mean from each bootstrap (i.e., row) and store it.\n",
        "# (This should be an array of n_bootstraps values)\n",
        "# 4. Calculate the lower and upper bounds for a 95% CI (hint: check the percentile function on Numpy)\n",
        "# 5. Return data_mean, and the lower and upper bounds of your interval\n",
        "def bootstrap_mean(x, sample_size, n_bootstraps):\n",
        "\t# <---INSERT YOUR CODE HERE--->\n",
        "  bootstrapping = np.random.choice(x, replace= True, size= [n_bootstraps, sample_size])  \n",
        "\n",
        "  meanBootstapSamples = []\n",
        "\n",
        "  # Create an array of mean of all bootstrap samples\n",
        "  for singleSample in bootstrapping:\n",
        "    singleSampleMean = singleSample.mean()\n",
        "    meanBootstapSamples.append(singleSampleMean)\n",
        "\n",
        "  meanBootstapSamplesArray = np.array(meanBootstapSamples)  \n",
        "\n",
        "  # Mean of array of all means of bootstrap samples\n",
        "  data_mean = meanBootstapSamplesArray.mean() \n",
        "  \n",
        "  # Lower and upper mean values in mean of bootstrap arrays\n",
        "  lower, upper = np.percentile(meanBootstapSamplesArray, [2.5, 97.5])\n",
        "  return data_mean, lower, upper\n",
        "\n",
        "\n",
        "bootstrap_mean(data, data.shape[0], 10)\n",
        "\t\n"
      ],
      "execution_count": null,
      "outputs": [
        {
          "output_type": "execute_result",
          "data": {
            "text/plain": [
              "(9.72857142857143, 6.185714285714286, 11.221428571428572)"
            ]
          },
          "metadata": {
            "tags": []
          },
          "execution_count": 4
        }
      ]
    },
    {
      "cell_type": "code",
      "metadata": {
        "colab": {
          "base_uri": "https://localhost:8080/",
          "height": 453
        },
        "id": "XPGTA0WX4yU8",
        "outputId": "0dc4f8cd-c501-4bce-973a-803a158fa951"
      },
      "source": [
        "boots = []\n",
        "for i in range(200, 70000, 2000):\n",
        "    boot = bootstrap_mean(data, data.shape[0], i)\n",
        "    boots.append([i, boot[0], \"mean\"])\n",
        "    boots.append([i, boot[1], \"lower\"])\n",
        "    boots.append([i, boot[2], \"upper\"])\n",
        "\n",
        "df_boot = pd.DataFrame(boots, columns=['Bootstrap Iterations', 'Mean', \"Value\"])\n",
        "sns_plot = sns.lmplot(df_boot.columns[0], df_boot.columns[1], data=df_boot, fit_reg=False, hue=\"Value\")\n",
        "\n",
        "sns_plot.axes[0, 0].set_ylim(0,)\n",
        "sns_plot.axes[0, 0].set_xlim(0, 100000)"
      ],
      "execution_count": null,
      "outputs": [
        {
          "output_type": "stream",
          "text": [
            "/usr/local/lib/python3.7/dist-packages/seaborn/_decorators.py:43: FutureWarning: Pass the following variables as keyword args: x, y. From version 0.12, the only valid positional argument will be `data`, and passing other arguments without an explicit keyword will result in an error or misinterpretation.\n",
            "  FutureWarning\n"
          ],
          "name": "stderr"
        },
        {
          "output_type": "execute_result",
          "data": {
            "text/plain": [
              "(0.0, 100000.0)"
            ]
          },
          "metadata": {
            "tags": []
          },
          "execution_count": 13
        },
        {
          "output_type": "display_data",
          "data": {
            "image/png": "[encoded data removed]",
            "text/plain": [
              "<Figure size 425.125x360 with 1 Axes>"
            ]
          },
          "metadata": {
            "tags": [],
            "needs_background": "light"
          }
        }
      ]
    },
    {
      "cell_type": "code",
      "metadata": {
        "colab": {
          "base_uri": "https://localhost:8080/"
        },
        "id": "6PGG1_Wa4-94",
        "outputId": "7a786b21-0e74-43af-88a9-e0dd4948a8da"
      },
      "source": [
        "def bootstrap_mean_ci(sample, sample_size, n_bootstraps, ci):\n",
        "  # <---INSERT YOUR CODE HERE--->\n",
        "\n",
        " # Create bootstrap samples from given dataset\n",
        "  bootstrapping = np.random.choice(sample, replace= True, size= [n_bootstraps, sample_size])  \n",
        "\n",
        "  meanBootstapSamples = []\n",
        "\n",
        "  # Create an array of mean of all bootstrap samples\n",
        "  for singleSample in bootstrapping:\n",
        "    singleSampleMean = singleSample.mean()\n",
        "    meanBootstapSamples.append(singleSampleMean)\n",
        "    \n",
        "  meanBootstapSamplesArray = np.array(meanBootstapSamples)  \n",
        "\n",
        "  # Mean of array of all means of bootstrap samples\n",
        "  data_mean = meanBootstapSamplesArray.mean() \n",
        "  \n",
        "  # Lower and upper mean values in mean of bootstrap arrays\n",
        "  lower, upper = np.percentile(meanBootstapSamplesArray, [(100-ci)/2, ci + (100-ci)/2])\n",
        "\n",
        "  return data_mean, lower, upper\n",
        "\n",
        "bootstrap_mean_ci(data, data.shape[0], 10, 80)"
      ],
      "execution_count": null,
      "outputs": [
        {
          "output_type": "execute_result",
          "data": {
            "text/plain": [
              "(9.242857142857142, 8.192857142857143, 10.014285714285714)"
            ]
          },
          "metadata": {
            "tags": []
          },
          "execution_count": 6
        }
      ]
    },
    {
      "cell_type": "code",
      "metadata": {
        "colab": {
          "base_uri": "https://localhost:8080/",
          "height": 453
        },
        "id": "dOJ9PDC65Bs-",
        "outputId": "68a16a21-e11e-47bb-96f8-6edb83652efa"
      },
      "source": [
        "boots = []\n",
        "for i in range(500, 10000, 2000):\n",
        "    boot = bootstrap_mean_ci(data, data.shape[0], i, 80)\n",
        "    boots.append([i, boot[0], \"mean\"])\n",
        "    boots.append([i, boot[1], \"lower\"])\n",
        "    boots.append([i, boot[2], \"upper\"])\n",
        "\n",
        "df_boot = pd.DataFrame(boots, columns=['Boostrap Iterations', 'Mean', \"Value\"])\n",
        "sns_plot = sns.lmplot(df_boot.columns[0], df_boot.columns[1], data=df_boot, fit_reg=False, hue=\"Value\")\n",
        "\n",
        "sns_plot.axes[0, 0].set_ylim(0,)\n",
        "sns_plot.axes[0, 0].set_xlim(0, 100000)"
      ],
      "execution_count": null,
      "outputs": [
        {
          "output_type": "stream",
          "text": [
            "/usr/local/lib/python3.7/dist-packages/seaborn/_decorators.py:43: FutureWarning: Pass the following variables as keyword args: x, y. From version 0.12, the only valid positional argument will be `data`, and passing other arguments without an explicit keyword will result in an error or misinterpretation.\n",
            "  FutureWarning\n"
          ],
          "name": "stderr"
        },
        {
          "output_type": "execute_result",
          "data": {
            "text/plain": [
              "(0.0, 100000.0)"
            ]
          },
          "metadata": {
            "tags": []
          },
          "execution_count": 16
        },
        {
          "output_type": "display_data",
          "data": {
            "image/png": "[encoded data removed]",
            "text/plain": [
              "<Figure size 425.125x360 with 1 Axes>"
            ]
          },
          "metadata": {
            "tags": [],
            "needs_background": "light"
          }
        }
      ]
    },
    {
      "cell_type": "code",
      "metadata": {
        "colab": {
          "base_uri": "https://localhost:8080/",
          "height": 737
        },
        "id": "wG93na_k5USt",
        "outputId": "8bd9f50c-702a-4434-9cd2-79de487435e9"
      },
      "source": [
        "# Load and visualise the vehicles dataset\n",
        "# To load the dataset: https://neptune.ai/blog/google-colab-dealing-with-files (check section \"Load individual files directly from GitHub\")\n",
        "\n",
        "\n",
        "# Note that the current and new fleets are in different columns and have different lengths, so bear this in mind when you're plotting.\n",
        "# You can create separate scatterplots for the two fleets, as you would with the histograms, \n",
        "# or plot them both in one plot (but not one against the other).\n",
        "# <---INSERT YOUR CODE HERE--->\n",
        "\n",
        "# Github vehicle dataset\n",
        "df = pd.read_csv('https://raw.githubusercontent.com/albanda/CE888/master/lab2%20-%20bootstrap/vehicles.csv')\n",
        "\n",
        "# current fleet dataset\n",
        "currentFleet = df.values.T[0]\n",
        "\n",
        "# new fleet dataset\n",
        "newFleet = df.values.T[1]\n",
        "\n",
        "# Removing null values from new fleet dataset\n",
        "newFleet= newFleet[np.logical_not(np.isnan(newFleet))]\n",
        "\n",
        "# Plotting Current fleet using seaborn histogram\n",
        "sns.displot(data=df, x='Current fleet')\n",
        "\n",
        "# sns.scatterplot(data=df, col='Current fleet')\n",
        "\n",
        "# Plotting new fleet using seaborn histogram\n",
        "sns.displot(data=df, x='New Fleet')\n",
        "# sns.scatterplot(data=df, x='New Fleet')\n",
        "\n",
        "# Note: you can add more cells as needed to organise your code and your plots\n",
        "# Note: you can add more cells as needed to organise your code and your plots\n"
      ],
      "execution_count": null,
      "outputs": [
        {
          "output_type": "execute_result",
          "data": {
            "text/plain": [
              "<seaborn.axisgrid.FacetGrid at 0x7f031fa690d0>"
            ]
          },
          "metadata": {
            "tags": []
          },
          "execution_count": 24
        },
        {
          "output_type": "display_data",
          "data": {
            "image/png": "[encoded data removed]",
            "text/plain": [
              "<Figure size 360x360 with 1 Axes>"
            ]
          },
          "metadata": {
            "tags": [],
            "needs_background": "light"
          }
        },
        {
          "output_type": "display_data",
          "data": {
            "image/png": "[encoded data removed]",
            "text/plain": [
              "<Figure size 360x360 with 1 Axes>"
            ]
          },
          "metadata": {
            "tags": [],
            "needs_background": "light"
          }
        }
      ]
    },
    {
      "cell_type": "markdown",
      "metadata": {
        "id": "ccFpDcrTITtk"
      },
      "source": [
        "## Compare the two fleets\n",
        "\n",
        "The business analysts come up a comparison algorithm that requires the upper and lower bounds for the mean in order to say which fleet is better.\n",
        "1. Calculate the mean of both samples.\n",
        "2. Using the bootstrap function that you created:\n",
        "    - Construct the 95% CI of the mean of the current fleet.\n",
        "    - Construct the 95% CI of the mean of the new fleet.\n",
        "    - Are they comparable? (i.e., is one better than the other?) -- you can do this with a permutation test (check the lecture notes!)"
      ]
    },
    {
      "cell_type": "code",
      "metadata": {
        "colab": {
          "base_uri": "https://localhost:8080/"
        },
        "id": "EYwhDYnJAAU-",
        "outputId": "8fc7c96e-b25b-41da-ff00-48df79548a59"
      },
      "source": [
        "# <---INSERT YOUR CODE HERE--->\n",
        "\n",
        "from mlxtend.evaluate import permutation_test\n",
        "\n",
        "# Current fleet Mean\n",
        "currentMean = np.mean(currentFleet)\n",
        "\n",
        "# New fleet Mean\n",
        "newMean = np.mean(newFleet)\n",
        "\n",
        "tObserved = newMean - currentMean\n",
        "\n",
        "currentSet = bootstrap_mean_ci(currentFleet, currentFleet.shape[0], 10, 95)\n",
        "\n",
        "newSet = bootstrap_mean_ci(newFleet, newFleet.shape[0], 10, 95)\n",
        "\n",
        "differenceConfInt = newSet[0] - currentSet[0]\n",
        "\n",
        "concate = np.concatenate((currentFleet,newFleet))\n",
        "\n",
        "numberOfTimes = 0\n",
        "n_permutations = 20000\n",
        "for i in range(n_permutations):\n",
        "  # Performing Permutation\n",
        "  perm = np.random.permutation(concate)\n",
        "\n",
        "  \n",
        "  pCurrentFleet = perm[:len(currentFleet)]\n",
        "  \n",
        "  pNewFleet = perm[-len(newFleet):]\n",
        "\n",
        "  \n",
        "  pCurrentFleetMean = pCurrentFleet.mean()\n",
        "\n",
        "  \n",
        "  pNewFleetMean = pNewFleet.mean()\n",
        "\n",
        "  \n",
        "  tperm = pNewFleetMean - pCurrentFleetMean\n",
        "\n",
        "  if tperm>tObserved:\n",
        "    numberOfTimes += 1\n",
        "\n",
        "pValue = (numberOfTimes)/(n_permutations)\n",
        "print('pValue : ', pValue)\n"
      ],
      "execution_count": null,
      "outputs": [
        {
          "output_type": "stream",
          "text": [
            "pValue :  0.0\n"
          ],
          "name": "stdout"
        }
      ]
    },
    {
      "cell_type": "code",
      "metadata": {
        "colab": {
          "base_uri": "https://localhost:8080/"
        },
        "id": "MuPIophQACq4",
        "outputId": "8f79800e-4f54-4638-cdf2-f635dfbef9dd"
      },
      "source": [
        "# Create your own function for a permutation test here (you will need it for the lab quiz!):\n",
        "def permut_test(sample1, sample2, n_permutations):\n",
        "    \"\"\"\n",
        "    sample1: 1D array\n",
        "    sample2: 1D array (note that the size of the two arrays can be different)\n",
        "    n_permutations: number of permutations to calculate the p-value\n",
        "    \"\"\"\n",
        "    # Mean of the two arrays\n",
        "    sample1Mean = sample1.mean()\n",
        "    sample2Mean = sample2.mean()\n",
        "\n",
        "    # Difference in mean\n",
        "    tObservation = sample2Mean - sample1Mean\n",
        "\n",
        "    concate = np.concatenate((sample1,sample2))\n",
        "\n",
        "    numberOfTimes = 0\n",
        "\n",
        "    for i in range(n_permutations):\n",
        "      perm = np.random.permutation(concate)\n",
        "\n",
        "      pSample1 = perm[:len(sample1)]\n",
        "      pSample2 = perm[-len(sample2):]\n",
        "\n",
        "      pSample1Mean = pSample1.mean()\n",
        "      pSample2Mean = pSample2.mean()\n",
        "\n",
        "      tperm = pSample2Mean - pSample1Mean\n",
        "      if (np.float64(tperm) > np.float64(tObservation)):        \n",
        "        numberOfTimes = numberOfTimes + 1\n",
        "\n",
        "    pvalue = numberOfTimes/n_permutations\n",
        "\n",
        "    return pvalue\n",
        "\n",
        "# Testing    \n",
        "a = np.array([5, 1, 2, 1, 18, 4])\n",
        "b = np.array([5, 1, 2, 1, 9, 12])\n",
        "permut_test(a, b, 50000)\n",
        "# permut_test(currentFleet, newFleet, 50000)\n"
      ],
      "execution_count": null,
      "outputs": [
        {
          "output_type": "execute_result",
          "data": {
            "text/plain": [
              "0.49796"
            ]
          },
          "metadata": {
            "tags": []
          },
          "execution_count": 29
        }
      ]
    }
  ]
}